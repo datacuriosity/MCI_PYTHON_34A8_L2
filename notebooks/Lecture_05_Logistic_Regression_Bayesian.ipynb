{
 "cells": [
  {
   "cell_type": "markdown",
   "id": "856a136c-22ab-40b9-96dc-8c11e364b568",
   "metadata": {},
   "source": [
    "Programming = Data structures + Algorithms"
   ]
  },
  {
   "cell_type": "markdown",
   "id": "7a661073-8633-4348-ac89-5ab4250d4178",
   "metadata": {
    "tags": []
   },
   "source": [
    "### Structural data types"
   ]
  },
  {
   "cell_type": "markdown",
   "id": "945880de-c6e4-4d6d-bed5-520bf290225b",
   "metadata": {},
   "source": [
    "![](https://i.imgur.com/JLbmW8m.jpg)"
   ]
  },
  {
   "cell_type": "markdown",
   "id": "359ccce7-ff3d-4e7f-82e9-201b045c2f15",
   "metadata": {},
   "source": [
    "#### Supervised learning: Must have labels\n",
    "- Regression: Predict continuous variables\n",
    "- Classification: Predict discrete variables"
   ]
  },
  {
   "cell_type": "markdown",
   "id": "9058d7e7-7987-4802-88f0-a2f6f6ddba1e",
   "metadata": {},
   "source": [
    "- Recommendation System / Recommender System / RecSys (MovieLen data)\n",
    "- Content Based, User Based, Maxtrix Factorization, (Model Based / Memory Based)\n",
    "- Django (refer) / Flash (Simple)\n",
    "- Restful API --> Json"
   ]
  },
  {
   "cell_type": "code",
   "execution_count": 3,
   "id": "f0da5e8e-2f91-43e0-bbe3-ca68254b5ea0",
   "metadata": {},
   "outputs": [],
   "source": [
    "import requests\n",
    "import pandas as pd"
   ]
  },
  {
   "cell_type": "code",
   "execution_count": 2,
   "id": "5113510a-ffae-4179-b7d7-3d6c025ba444",
   "metadata": {},
   "outputs": [],
   "source": [
    "path = 'https://finfo-api.vndirect.com.vn/v4/stocks?q=type:stock,ifc~floor:HOSE,HNX,UPCOM&size=9999'\n",
    "data = requests.get(path)"
   ]
  },
  {
   "cell_type": "code",
   "execution_count": 7,
   "id": "08b1ebc1-4221-4bdd-a4fb-1a79dfbee368",
   "metadata": {},
   "outputs": [
    {
     "data": {
      "text/html": [
       "<div>\n",
       "<style scoped>\n",
       "    .dataframe tbody tr th:only-of-type {\n",
       "        vertical-align: middle;\n",
       "    }\n",
       "\n",
       "    .dataframe tbody tr th {\n",
       "        vertical-align: top;\n",
       "    }\n",
       "\n",
       "    .dataframe thead th {\n",
       "        text-align: right;\n",
       "    }\n",
       "</style>\n",
       "<table border=\"1\" class=\"dataframe\">\n",
       "  <thead>\n",
       "    <tr style=\"text-align: right;\">\n",
       "      <th></th>\n",
       "      <th>code</th>\n",
       "      <th>type</th>\n",
       "      <th>floor</th>\n",
       "      <th>status</th>\n",
       "      <th>companyName</th>\n",
       "      <th>companyNameEng</th>\n",
       "      <th>listedDate</th>\n",
       "      <th>delistedDate</th>\n",
       "      <th>companyId</th>\n",
       "      <th>isin</th>\n",
       "      <th>shortName</th>\n",
       "      <th>indexCode</th>\n",
       "    </tr>\n",
       "  </thead>\n",
       "  <tbody>\n",
       "    <tr>\n",
       "      <th>0</th>\n",
       "      <td>ASIAGF</td>\n",
       "      <td>IFC</td>\n",
       "      <td>HOSE</td>\n",
       "      <td>delisted</td>\n",
       "      <td>Quỹ đầu tư tăng trưởng ACB</td>\n",
       "      <td>ACB Growth Fund</td>\n",
       "      <td>2012-06-26</td>\n",
       "      <td>2014-12-30</td>\n",
       "      <td>3453</td>\n",
       "      <td>NaN</td>\n",
       "      <td>NaN</td>\n",
       "      <td>NaN</td>\n",
       "    </tr>\n",
       "    <tr>\n",
       "      <th>1</th>\n",
       "      <td>VFMVF1</td>\n",
       "      <td>IFC</td>\n",
       "      <td>HOSE</td>\n",
       "      <td>delisted</td>\n",
       "      <td>Quỹ Đầu Tư Chứng Khoán Việt Nam</td>\n",
       "      <td>Vietnam Securities Investment Fund</td>\n",
       "      <td>2004-11-08</td>\n",
       "      <td>2013-09-24</td>\n",
       "      <td>528</td>\n",
       "      <td>VN000VFMVF11</td>\n",
       "      <td>NaN</td>\n",
       "      <td>NaN</td>\n",
       "    </tr>\n",
       "  </tbody>\n",
       "</table>\n",
       "</div>"
      ],
      "text/plain": [
       "     code type floor    status                      companyName  \\\n",
       "0  ASIAGF  IFC  HOSE  delisted      Quỹ đầu tư tăng trưởng ACB    \n",
       "1  VFMVF1  IFC  HOSE  delisted  Quỹ Đầu Tư Chứng Khoán Việt Nam   \n",
       "\n",
       "                       companyNameEng  listedDate delistedDate companyId  \\\n",
       "0                     ACB Growth Fund  2012-06-26   2014-12-30      3453   \n",
       "1  Vietnam Securities Investment Fund  2004-11-08   2013-09-24       528   \n",
       "\n",
       "           isin shortName indexCode  \n",
       "0           NaN       NaN       NaN  \n",
       "1  VN000VFMVF11       NaN       NaN  "
      ]
     },
     "execution_count": 7,
     "metadata": {},
     "output_type": "execute_result"
    }
   ],
   "source": [
    "df = pd.DataFrame(data.json().get('data'))\n",
    "df.head(2)"
   ]
  },
  {
   "cell_type": "code",
   "execution_count": 8,
   "id": "cbf552ed-41bf-4ff7-8cb4-1e040ae600d2",
   "metadata": {},
   "outputs": [
    {
     "data": {
      "text/plain": [
       "(1856, 12)"
      ]
     },
     "execution_count": 8,
     "metadata": {},
     "output_type": "execute_result"
    }
   ],
   "source": [
    "df.shape"
   ]
  },
  {
   "cell_type": "code",
   "execution_count": null,
   "id": "b10f41e3-bc7b-48fd-9f74-36e3514801cc",
   "metadata": {},
   "outputs": [],
   "source": []
  }
 ],
 "metadata": {
  "kernelspec": {
   "display_name": "Python 3 (ipykernel)",
   "language": "python",
   "name": "python3"
  },
  "language_info": {
   "codemirror_mode": {
    "name": "ipython",
    "version": 3
   },
   "file_extension": ".py",
   "mimetype": "text/x-python",
   "name": "python",
   "nbconvert_exporter": "python",
   "pygments_lexer": "ipython3",
   "version": "3.8.11"
  }
 },
 "nbformat": 4,
 "nbformat_minor": 5
}
