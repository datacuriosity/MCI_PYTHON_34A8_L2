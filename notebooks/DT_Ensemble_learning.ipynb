{
 "cells": [
  {
   "cell_type": "markdown",
   "id": "c36f05cc",
   "metadata": {},
   "source": [
    "- Deep Learning, Neural network: Cognitive -> Computer Vision, Natural Language Processing,...\n",
    "\n",
    "- Boosting: Tabular --> Decision Making, Inferences"
   ]
  },
  {
   "cell_type": "markdown",
   "id": "22bbc775",
   "metadata": {},
   "source": [
    "### Ensemble Learning"
   ]
  },
  {
   "cell_type": "markdown",
   "id": "c68ce8bb",
   "metadata": {},
   "source": [
    "- Bagging: Boostrap Aggreation, Random Forest --> High variance, low bias --> Low variance, low bias\n",
    "- Boosting: Gradient Boosting --> Low variance, High bias --> Low variance, low bias\n",
    "- Stacking: Stack many different ML algorithms"
   ]
  },
  {
   "cell_type": "markdown",
   "id": "13ef6f20",
   "metadata": {},
   "source": [
    "Error = Bias^2 + Variance + Irreducible Error"
   ]
  },
  {
   "cell_type": "markdown",
   "id": "abf22cec",
   "metadata": {},
   "source": [
    "#### Random Forest\n",
    "- Row sampling + Column Sampling + Aggragation"
   ]
  },
  {
   "cell_type": "markdown",
   "id": "f4e51893",
   "metadata": {},
   "source": [
    "Feature engineering:\n",
    "- Feature Extraction\n",
    "- Feature Selection\n",
    "- Feature Creation"
   ]
  },
  {
   "cell_type": "code",
   "execution_count": 1,
   "id": "9f216e94",
   "metadata": {},
   "outputs": [],
   "source": [
    "import numpy as np"
   ]
  },
  {
   "cell_type": "code",
   "execution_count": null,
   "id": "f157dcf9",
   "metadata": {},
   "outputs": [],
   "source": [
    "E = - Summation (P * Log (P))"
   ]
  },
  {
   "cell_type": "code",
   "execution_count": 3,
   "id": "861a736a",
   "metadata": {},
   "outputs": [
    {
     "data": {
      "text/plain": [
       "0.3250829733914482"
      ]
     },
     "execution_count": 3,
     "metadata": {},
     "output_type": "execute_result"
    }
   ],
   "source": [
    "p1 = 0.9\n",
    "p0 = 1 - p1\n",
    "\n",
    "- p1 * np.log(p1) - p0*np.log(p0)"
   ]
  },
  {
   "cell_type": "code",
   "execution_count": 4,
   "id": "fa21e46e",
   "metadata": {},
   "outputs": [
    {
     "data": {
      "text/plain": [
       "0.6730116670092565"
      ]
     },
     "execution_count": 4,
     "metadata": {},
     "output_type": "execute_result"
    }
   ],
   "source": [
    "p1 = 0.6\n",
    "p0 = 1 - p1\n",
    "\n",
    "- p1 * np.log(p1) - p0*np.log(p0)"
   ]
  },
  {
   "cell_type": "code",
   "execution_count": 5,
   "id": "a668b252",
   "metadata": {},
   "outputs": [
    {
     "data": {
      "text/plain": [
       "0.6931471805599453"
      ]
     },
     "execution_count": 5,
     "metadata": {},
     "output_type": "execute_result"
    }
   ],
   "source": [
    "p1 = 0.5\n",
    "p0 = 1 - p1\n",
    "\n",
    "- p1 * np.log(p1) - p0*np.log(p0)"
   ]
  },
  {
   "cell_type": "markdown",
   "id": "66bdaf3e",
   "metadata": {},
   "source": [
    "### Dataset\n",
    "\n",
    "Predict default/ credit risk probability"
   ]
  },
  {
   "cell_type": "code",
   "execution_count": 23,
   "id": "7d182893",
   "metadata": {},
   "outputs": [],
   "source": [
    "import numpy as np\n",
    "import pandas as pd\n",
    "import matplotlib.pyplot as plt\n",
    "import seaborn as sns\n",
    "import warnings\n",
    "from sklearn.tree import DecisionTreeClassifier\n",
    "from sklearn.ensemble import RandomForestClassifier, StackingClassifier, GradientBoostingClassifier\n",
    "from sklearn.linear_model import LogisticRegression\n",
    "from sklearn.metrics import roc_auc_score\n",
    "\n",
    "warnings.filterwarnings('ignore')"
   ]
  },
  {
   "cell_type": "code",
   "execution_count": 9,
   "id": "a1b924cf",
   "metadata": {},
   "outputs": [
    {
     "data": {
      "text/html": [
       "<div>\n",
       "<style scoped>\n",
       "    .dataframe tbody tr th:only-of-type {\n",
       "        vertical-align: middle;\n",
       "    }\n",
       "\n",
       "    .dataframe tbody tr th {\n",
       "        vertical-align: top;\n",
       "    }\n",
       "\n",
       "    .dataframe thead th {\n",
       "        text-align: right;\n",
       "    }\n",
       "</style>\n",
       "<table border=\"1\" class=\"dataframe\">\n",
       "  <thead>\n",
       "    <tr style=\"text-align: right;\">\n",
       "      <th></th>\n",
       "      <th>SeriousDlqin2yrs</th>\n",
       "      <th>RevolvingUtilizationOfUnsecuredLines</th>\n",
       "      <th>age</th>\n",
       "      <th>NumberOfTime30-59DaysPastDueNotWorse</th>\n",
       "      <th>DebtRatio</th>\n",
       "      <th>MonthlyIncome</th>\n",
       "      <th>NumberOfOpenCreditLinesAndLoans</th>\n",
       "      <th>NumberOfTimes90DaysLate</th>\n",
       "      <th>NumberRealEstateLoansOrLines</th>\n",
       "      <th>NumberOfTime60-89DaysPastDueNotWorse</th>\n",
       "      <th>NumberOfDependents</th>\n",
       "    </tr>\n",
       "  </thead>\n",
       "  <tbody>\n",
       "    <tr>\n",
       "      <th>1</th>\n",
       "      <td>1</td>\n",
       "      <td>0.766127</td>\n",
       "      <td>45</td>\n",
       "      <td>2</td>\n",
       "      <td>0.802982</td>\n",
       "      <td>9120.0</td>\n",
       "      <td>13</td>\n",
       "      <td>0</td>\n",
       "      <td>6</td>\n",
       "      <td>0</td>\n",
       "      <td>2.0</td>\n",
       "    </tr>\n",
       "    <tr>\n",
       "      <th>2</th>\n",
       "      <td>0</td>\n",
       "      <td>0.957151</td>\n",
       "      <td>40</td>\n",
       "      <td>0</td>\n",
       "      <td>0.121876</td>\n",
       "      <td>2600.0</td>\n",
       "      <td>4</td>\n",
       "      <td>0</td>\n",
       "      <td>0</td>\n",
       "      <td>0</td>\n",
       "      <td>1.0</td>\n",
       "    </tr>\n",
       "  </tbody>\n",
       "</table>\n",
       "</div>"
      ],
      "text/plain": [
       "   SeriousDlqin2yrs  RevolvingUtilizationOfUnsecuredLines  age  \\\n",
       "1                 1                              0.766127   45   \n",
       "2                 0                              0.957151   40   \n",
       "\n",
       "   NumberOfTime30-59DaysPastDueNotWorse  DebtRatio  MonthlyIncome  \\\n",
       "1                                     2   0.802982         9120.0   \n",
       "2                                     0   0.121876         2600.0   \n",
       "\n",
       "   NumberOfOpenCreditLinesAndLoans  NumberOfTimes90DaysLate  \\\n",
       "1                               13                        0   \n",
       "2                                4                        0   \n",
       "\n",
       "   NumberRealEstateLoansOrLines  NumberOfTime60-89DaysPastDueNotWorse  \\\n",
       "1                             6                                     0   \n",
       "2                             0                                     0   \n",
       "\n",
       "   NumberOfDependents  \n",
       "1                 2.0  \n",
       "2                 1.0  "
      ]
     },
     "execution_count": 9,
     "metadata": {},
     "output_type": "execute_result"
    }
   ],
   "source": [
    "df = pd.read_csv('../Lecture/4.Ensemble_learning/cs-training.csv', index_col=0)\n",
    "df.head(2)"
   ]
  },
  {
   "cell_type": "code",
   "execution_count": 22,
   "id": "f81231e7",
   "metadata": {},
   "outputs": [
    {
     "data": {
      "image/png": "[encoded data removed]",
      "text/plain": [
       "<Figure size 432x288 with 1 Axes>"
      ]
     },
     "metadata": {},
     "output_type": "display_data"
    }
   ],
   "source": [
    "# _, ax = plt.figure(figsize=(20, 6))\n",
    "# sns.countplot(df.SeriousDlqin2yrs, ax=ax[0])\n",
    "plt.pie(df.SeriousDlqin2yrs.value_counts().values, \n",
    "        labels=df.SeriousDlqin2yrs.value_counts().index, autopct='%.2f%%')\n",
    "plt.show()"
   ]
  },
  {
   "cell_type": "code",
   "execution_count": 19,
   "id": "22044010",
   "metadata": {},
   "outputs": [
    {
     "data": {
      "text/plain": [
       "array([139974,  10026])"
      ]
     },
     "execution_count": 19,
     "metadata": {},
     "output_type": "execute_result"
    }
   ],
   "source": [
    "df.SeriousDlqin2yrs.value_counts("
   ]
  },
  {
   "cell_type": "code",
   "execution_count": null,
   "id": "76828cae",
   "metadata": {},
   "outputs": [],
   "source": []
  }
 ],
 "metadata": {
  "kernelspec": {
   "display_name": "Python 3 (ipykernel)",
   "language": "python",
   "name": "python3"
  },
  "language_info": {
   "codemirror_mode": {
    "name": "ipython",
    "version": 3
   },
   "file_extension": ".py",
   "mimetype": "text/x-python",
   "name": "python",
   "nbconvert_exporter": "python",
   "pygments_lexer": "ipython3",
   "version": "3.8.11"
  }
 },
 "nbformat": 4,
 "nbformat_minor": 5
}
