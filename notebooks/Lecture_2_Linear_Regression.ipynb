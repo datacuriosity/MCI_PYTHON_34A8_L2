{
 "cells": [
  {
   "cell_type": "markdown",
   "id": "4d6fcf51-407a-4f95-bcc6-25bcd5a0e7a8",
   "metadata": {},
   "source": [
    "- Compiler:\n",
    "    \n",
    "- Interpreter:"
   ]
  },
  {
   "cell_type": "markdown",
   "id": "dd6ebea3-dcc2-4c9c-a4c7-771dd3b89cf7",
   "metadata": {},
   "source": [
    "- Execution bug: Stop program\n",
    "- Logic bug: No stop program --> Wrong result"
   ]
  },
  {
   "cell_type": "markdown",
   "id": "a0c8f753-82c4-491d-87c9-a931310f74c7",
   "metadata": {},
   "source": [
    "Dimension\n",
    "- 0 dimension: a number, scalar\n",
    "- 1 dimension: 1 vector\n",
    "- 2 dimensions: matrix\n",
    "- 3 dimensions: matrix 3 dimensions\n",
    "- 4 dimensions: hyper dimensions"
   ]
  },
  {
   "cell_type": "markdown",
   "id": "681b82b9-de44-4fed-be14-b726175ec623",
   "metadata": {},
   "source": [
    "![](https://www.researchgate.net/profile/Dmytro-Shulga/publication/332263806/figure/fig3/AS:745257088086019@1554694544935/Tensors-as-generalizations-of-scalars-vectors-and-matrices.png)"
   ]
  },
  {
   "cell_type": "markdown",
   "id": "86f2ba71-e491-44ac-8e90-d6d6b027e80e",
   "metadata": {},
   "source": [
    "![](data:image/png;base64,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)"
   ]
  },
  {
   "cell_type": "markdown",
   "id": "113264a6-858e-4d24-8219-78c45a4dd228",
   "metadata": {},
   "source": [
    "![](https://datalya.com/blog/content/4-machine-learning/11-machine-learning-vs-traditional-programming-paradigm/ml_vs_traditional_paradigm.png)"
   ]
  },
  {
   "cell_type": "code",
   "execution_count": null,
   "id": "5ffb3cf2-b881-4983-b86a-a91047bfbc88",
   "metadata": {},
   "outputs": [],
   "source": []
  }
 ],
 "metadata": {
  "kernelspec": {
   "display_name": "Python 3",
   "language": "python",
   "name": "python3"
  },
  "language_info": {
   "codemirror_mode": {
    "name": "ipython",
    "version": 3
   },
   "file_extension": ".py",
   "mimetype": "text/x-python",
   "name": "python",
   "nbconvert_exporter": "python",
   "pygments_lexer": "ipython3",
   "version": "3.7.10"
  }
 },
 "nbformat": 4,
 "nbformat_minor": 5
}
