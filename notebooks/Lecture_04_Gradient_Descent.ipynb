{
 "cells": [
  {
   "cell_type": "markdown",
   "id": "06a5aa61-6d3e-4e56-8cd8-5596e04eeb24",
   "metadata": {},
   "source": [
    "### I/O:\n",
    "Input/Output"
   ]
  },
  {
   "cell_type": "markdown",
   "id": "e43a6751-f8f5-4e31-a06d-81df667b3b52",
   "metadata": {},
   "source": [
    "- Absolute path: Đưa đường dẫn vào từ system của máy tính\n",
    "- Relative path: Đưa đường dẫn tương đối so với vị trí đọc file (prefer)"
   ]
  },
  {
   "cell_type": "code",
   "execution_count": 1,
   "id": "12cec802-3f45-40d1-812b-be10298177d4",
   "metadata": {},
   "outputs": [],
   "source": [
    "import pandas as pd"
   ]
  },
  {
   "cell_type": "code",
   "execution_count": 2,
   "id": "aa01ec2b-9628-4b08-a188-f5ae0342b808",
   "metadata": {},
   "outputs": [
    {
     "data": {
      "text/html": [
       "<div>\n",
       "<style scoped>\n",
       "    .dataframe tbody tr th:only-of-type {\n",
       "        vertical-align: middle;\n",
       "    }\n",
       "\n",
       "    .dataframe tbody tr th {\n",
       "        vertical-align: top;\n",
       "    }\n",
       "\n",
       "    .dataframe thead th {\n",
       "        text-align: right;\n",
       "    }\n",
       "</style>\n",
       "<table border=\"1\" class=\"dataframe\">\n",
       "  <thead>\n",
       "    <tr style=\"text-align: right;\">\n",
       "      <th></th>\n",
       "      <th>MODELYEAR</th>\n",
       "      <th>MAKE</th>\n",
       "      <th>MODEL</th>\n",
       "      <th>VEHICLECLASS</th>\n",
       "      <th>ENGINESIZE</th>\n",
       "      <th>CYLINDERS</th>\n",
       "      <th>TRANSMISSION</th>\n",
       "      <th>FUELTYPE</th>\n",
       "      <th>FUELCONSUMPTION_CITY</th>\n",
       "      <th>FUELCONSUMPTION_HWY</th>\n",
       "      <th>FUELCONSUMPTION_COMB</th>\n",
       "      <th>FUELCONSUMPTION_COMB_MPG</th>\n",
       "      <th>CO2EMISSIONS</th>\n",
       "    </tr>\n",
       "  </thead>\n",
       "  <tbody>\n",
       "    <tr>\n",
       "      <th>0</th>\n",
       "      <td>2014</td>\n",
       "      <td>ACURA</td>\n",
       "      <td>ILX</td>\n",
       "      <td>COMPACT</td>\n",
       "      <td>2.0</td>\n",
       "      <td>4</td>\n",
       "      <td>AS5</td>\n",
       "      <td>Z</td>\n",
       "      <td>9.9</td>\n",
       "      <td>6.7</td>\n",
       "      <td>8.5</td>\n",
       "      <td>33</td>\n",
       "      <td>196</td>\n",
       "    </tr>\n",
       "    <tr>\n",
       "      <th>1</th>\n",
       "      <td>2014</td>\n",
       "      <td>ACURA</td>\n",
       "      <td>ILX</td>\n",
       "      <td>COMPACT</td>\n",
       "      <td>2.4</td>\n",
       "      <td>4</td>\n",
       "      <td>M6</td>\n",
       "      <td>Z</td>\n",
       "      <td>11.2</td>\n",
       "      <td>7.7</td>\n",
       "      <td>9.6</td>\n",
       "      <td>29</td>\n",
       "      <td>221</td>\n",
       "    </tr>\n",
       "  </tbody>\n",
       "</table>\n",
       "</div>"
      ],
      "text/plain": [
       "   MODELYEAR   MAKE MODEL VEHICLECLASS  ENGINESIZE  CYLINDERS TRANSMISSION  \\\n",
       "0       2014  ACURA   ILX      COMPACT         2.0          4          AS5   \n",
       "1       2014  ACURA   ILX      COMPACT         2.4          4           M6   \n",
       "\n",
       "  FUELTYPE  FUELCONSUMPTION_CITY  FUELCONSUMPTION_HWY  FUELCONSUMPTION_COMB  \\\n",
       "0        Z                   9.9                  6.7                   8.5   \n",
       "1        Z                  11.2                  7.7                   9.6   \n",
       "\n",
       "   FUELCONSUMPTION_COMB_MPG  CO2EMISSIONS  \n",
       "0                        33           196  \n",
       "1                        29           221  "
      ]
     },
     "execution_count": 2,
     "metadata": {},
     "output_type": "execute_result"
    }
   ],
   "source": [
    "path = '/Users/truongnm/PycharmProjects/MCI_PYTHON_34A8_L2/Lecture/1.Linear_Regression/FuelConsumptionCo2.csv'\n",
    "df = pd.read_csv(path)\n",
    "df.head(2)"
   ]
  },
  {
   "cell_type": "markdown",
   "id": "c2956297-712d-4abb-950a-4c72c2fa8674",
   "metadata": {},
   "source": [
    "- Write code to clean, beauty, loose coupling"
   ]
  },
  {
   "cell_type": "markdown",
   "id": "256a4a1c-7d07-4fb2-8d47-db973749997b",
   "metadata": {},
   "source": [
    "-Conceptual/ Logic"
   ]
  },
  {
   "cell_type": "markdown",
   "id": "9e3077fc-3419-40b8-8c26-700a372968da",
   "metadata": {},
   "source": [
    "Varible scope:\n",
    "- Global: Avoid\n",
    "- Local: Prefer"
   ]
  },
  {
   "cell_type": "markdown",
   "id": "6ebc17cd-0e0a-4d03-8317-51938feef608",
   "metadata": {},
   "source": [
    "- Library: K xay lai tu dau.\n",
    "- Understand algorithms: \n",
    "    + Suitable alg \n",
    "    + Tuning hyperparams\n",
    "    + Error analysis"
   ]
  },
  {
   "cell_type": "code",
   "execution_count": null,
   "id": "b1730fe2-8f95-4d1e-aef1-a66e744727ab",
   "metadata": {},
   "outputs": [],
   "source": [
    "Output -> Measure --> Not accepted?"
   ]
  },
  {
   "cell_type": "markdown",
   "id": "50df30e3-f4a0-48d2-811c-16b8358000c7",
   "metadata": {},
   "source": [
    "- Derivative: Sự thay đổi tức thời của đại lượng này trên 1 đơn vị đại lượng khác --> 1 biến\n",
    "- Gradient: Đạo hàm nhiều biến"
   ]
  },
  {
   "cell_type": "markdown",
   "id": "8647bac6-b40c-483a-bd1d-ce552b0f96b1",
   "metadata": {},
   "source": [
    "1:20:01s --> 5m/s\n",
    "1:20:02s --> 10ms/s\n",
    "\n",
    "dv/dt: (10-5) /(02 - 01) --> a(m/s^2) --> Trong 1s, sự thay đổi vận tốc là 5m/s\n"
   ]
  },
  {
   "cell_type": "markdown",
   "id": "64ee2885-c05e-4330-9cfe-8edc787451b4",
   "metadata": {},
   "source": [
    "![](https://res.cloudinary.com/dominhhai/image/upload/ml/gd.png)"
   ]
  },
  {
   "cell_type": "markdown",
   "id": "2cf1d46b-6ffc-46f2-b85f-02f6b0fe85ad",
   "metadata": {},
   "source": [
    "![](https://blog.paperspace.com/content/images/size/w1050/2018/05/convex_cost_function.jpg)"
   ]
  },
  {
   "cell_type": "markdown",
   "id": "915b4bb5-4d94-448a-9889-bee07ffdbf90",
   "metadata": {},
   "source": [
    "LASSO vs RIDGE Regression"
   ]
  },
  {
   "cell_type": "markdown",
   "id": "1a2e8036-5fd4-4952-b594-9fbd8256d058",
   "metadata": {},
   "source": [
    "![](https://diywkfbv.com/regularization-la-gi/imager_7_6275_700.jpg)"
   ]
  },
  {
   "cell_type": "markdown",
   "id": "fe1a39b6-a461-4418-8a57-5ed1dbf064fd",
   "metadata": {},
   "source": [
    "Elastic Net"
   ]
  },
  {
   "cell_type": "markdown",
   "id": "8f77cd74-65d4-423e-87e6-6c89e6f23330",
   "metadata": {},
   "source": [
    "![](https://media.geeksforgeeks.org/wp-content/uploads/20200723010928/Elastic_1.png)"
   ]
  },
  {
   "cell_type": "code",
   "execution_count": null,
   "id": "265365ce-e14f-41cd-b1f9-95654665a0ca",
   "metadata": {},
   "outputs": [],
   "source": []
  }
 ],
 "metadata": {
  "kernelspec": {
   "display_name": "Python 3 (ipykernel)",
   "language": "python",
   "name": "python3"
  },
  "language_info": {
   "codemirror_mode": {
    "name": "ipython",
    "version": 3
   },
   "file_extension": ".py",
   "mimetype": "text/x-python",
   "name": "python",
   "nbconvert_exporter": "python",
   "pygments_lexer": "ipython3",
   "version": "3.8.11"
  }
 },
 "nbformat": 4,
 "nbformat_minor": 5
}
